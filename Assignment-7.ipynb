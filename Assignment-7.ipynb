{
 "cells": [
  {
   "cell_type": "code",
   "execution_count": 1,
   "metadata": {},
   "outputs": [
    {
     "name": "stdout",
     "output_type": "stream",
     "text": [
      "Enter a number:28\n",
      "Enter a number:6\n",
      "4\n"
     ]
    }
   ],
   "source": [
    "#GCD of two numbers\n",
    "n1=int(input(\"Enter a number:\"))\n",
    "n2=int(input(\"Enter a number:\"))\n",
    "if n1>n2:\n",
    "    b=n1\n",
    "    s=n2\n",
    "else:\n",
    "    b=n2\n",
    "    s=n1\n",
    "while b>s:\n",
    "    if(b>s):\n",
    "        b=b-s\n",
    "    else:\n",
    "        s=s-b\n",
    "print(b)"
   ]
  },
  {
   "cell_type": "code",
   "execution_count": 3,
   "metadata": {},
   "outputs": [
    {
     "name": "stdout",
     "output_type": "stream",
     "text": [
      "0 1 2 4 5 \n",
      "\n"
     ]
    }
   ],
   "source": [
    "#Print all the num from 0 to 6\n",
    "for x in range(6):\n",
    "    if (x ==3 or x == 6):\n",
    "        continue\n",
    "    print(x,end=' ')\n",
    "print(\"\\n\")"
   ]
  },
  {
   "cell_type": "code",
   "execution_count": 6,
   "metadata": {},
   "outputs": [
    {
     "name": "stdout",
     "output_type": "stream",
     "text": [
      "Number of even numbers : 6\n",
      "Number of odd numbers : 6\n"
     ]
    }
   ],
   "source": [
    "#To count the number of even and odd numbers\n",
    "num=(1,2,3,4,5,6,7,8,9,10,11,12)\n",
    "count_odd = 0\n",
    "count_even = 0\n",
    "for x in num:\n",
    "    if not x % 2:\n",
    "        count_even+=1\n",
    "    else:\n",
    "        count_odd+=1\n",
    "print(\"Number of even numbers :\",count_even)\n",
    "print(\"Number of odd numbers :\",count_odd)\n"
   ]
  },
  {
   "cell_type": "code",
   "execution_count": 7,
   "metadata": {},
   "outputs": [
    {
     "name": "stdout",
     "output_type": "stream",
     "text": [
      "Input a word to reverse: Hello\n",
      "olleH\n",
      "\n"
     ]
    }
   ],
   "source": [
    "#Accepts a word from the user and reverse it \n",
    "word=input(\"Input a word to reverse: \")\n",
    "for char in range(len(word) -1, -1, -1):\n",
    "    print(word[char], end=\"\")\n",
    "print(\"\\n\")"
   ]
  }
 ],
 "metadata": {
  "kernelspec": {
   "display_name": "Python 3",
   "language": "python",
   "name": "python3"
  },
  "language_info": {
   "codemirror_mode": {
    "name": "ipython",
    "version": 3
   },
   "file_extension": ".py",
   "mimetype": "text/x-python",
   "name": "python",
   "nbconvert_exporter": "python",
   "pygments_lexer": "ipython3",
   "version": "3.8.3"
  }
 },
 "nbformat": 4,
 "nbformat_minor": 4
}
